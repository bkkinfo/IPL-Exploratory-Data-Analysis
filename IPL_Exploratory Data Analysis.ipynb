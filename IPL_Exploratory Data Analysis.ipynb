{
  "nbformat": 4,
  "nbformat_minor": 0,
  "metadata": {
    "kernelspec": {
      "display_name": "Python 3",
      "language": "python",
      "name": "python3"
    },
    "language_info": {
      "codemirror_mode": {
        "name": "ipython",
        "version": 3
      },
      "file_extension": ".py",
      "mimetype": "text/x-python",
      "name": "python",
      "nbconvert_exporter": "python",
      "pygments_lexer": "ipython3",
      "version": "3.6.1"
    },
    "colab": {
      "name": "ipl_completed.ipynb",
      "provenance": [],
      "toc_visible": true
    }
  },
  "cells": [
    {
      "cell_type": "markdown",
      "metadata": {
        "id": "n43ym9wjAgh-",
        "colab_type": "text"
      },
      "source": [
        "Import Data"
      ]
    },
    {
      "cell_type": "code",
      "metadata": {
        "id": "iUS6SL_lALWs",
        "colab_type": "code",
        "colab": {}
      },
      "source": [
        "import numpy as np\n",
        "import pandas as pd\n",
        "import matplotlib.pyplot as plt"
      ],
      "execution_count": 0,
      "outputs": []
    },
    {
      "cell_type": "markdown",
      "metadata": {
        "id": "JEuexT4dAlFo",
        "colab_type": "text"
      },
      "source": [
        "#Task 1: Read CSV Files"
      ]
    },
    {
      "cell_type": "code",
      "metadata": {
        "id": "FvSXGIwxALW8",
        "colab_type": "code",
        "colab": {
          "base_uri": "https://localhost:8080/",
          "height": 445
        },
        "outputId": "48f0f885-0fea-4bac-d844-655a65fcffe3"
      },
      "source": [
        "df_deliveries = pd.read_csv('deliveries.csv')\n",
        "df_matches = pd.read_csv('matches.csv')\n",
        "\n",
        "df_matches.head()\n"
      ],
      "execution_count": 4,
      "outputs": [
        {
          "output_type": "execute_result",
          "data": {
            "text/html": [
              "<div>\n",
              "<style scoped>\n",
              "    .dataframe tbody tr th:only-of-type {\n",
              "        vertical-align: middle;\n",
              "    }\n",
              "\n",
              "    .dataframe tbody tr th {\n",
              "        vertical-align: top;\n",
              "    }\n",
              "\n",
              "    .dataframe thead th {\n",
              "        text-align: right;\n",
              "    }\n",
              "</style>\n",
              "<table border=\"1\" class=\"dataframe\">\n",
              "  <thead>\n",
              "    <tr style=\"text-align: right;\">\n",
              "      <th></th>\n",
              "      <th>id</th>\n",
              "      <th>season</th>\n",
              "      <th>city</th>\n",
              "      <th>date</th>\n",
              "      <th>team1</th>\n",
              "      <th>team2</th>\n",
              "      <th>toss_winner</th>\n",
              "      <th>toss_decision</th>\n",
              "      <th>result</th>\n",
              "      <th>dl_applied</th>\n",
              "      <th>winner</th>\n",
              "      <th>win_by_runs</th>\n",
              "      <th>win_by_wickets</th>\n",
              "      <th>player_of_match</th>\n",
              "      <th>venue</th>\n",
              "      <th>umpire1</th>\n",
              "      <th>umpire2</th>\n",
              "      <th>umpire3</th>\n",
              "    </tr>\n",
              "  </thead>\n",
              "  <tbody>\n",
              "    <tr>\n",
              "      <th>0</th>\n",
              "      <td>1</td>\n",
              "      <td>2017</td>\n",
              "      <td>Hyderabad</td>\n",
              "      <td>2017-04-05</td>\n",
              "      <td>Sunrisers Hyderabad</td>\n",
              "      <td>Royal Challengers Bangalore</td>\n",
              "      <td>Royal Challengers Bangalore</td>\n",
              "      <td>field</td>\n",
              "      <td>normal</td>\n",
              "      <td>0</td>\n",
              "      <td>Sunrisers Hyderabad</td>\n",
              "      <td>35</td>\n",
              "      <td>0</td>\n",
              "      <td>Yuvraj Singh</td>\n",
              "      <td>Rajiv Gandhi International Stadium, Uppal</td>\n",
              "      <td>AY Dandekar</td>\n",
              "      <td>NJ Llong</td>\n",
              "      <td>NaN</td>\n",
              "    </tr>\n",
              "    <tr>\n",
              "      <th>1</th>\n",
              "      <td>2</td>\n",
              "      <td>2017</td>\n",
              "      <td>Pune</td>\n",
              "      <td>2017-04-06</td>\n",
              "      <td>Mumbai Indians</td>\n",
              "      <td>Rising Pune Supergiant</td>\n",
              "      <td>Rising Pune Supergiant</td>\n",
              "      <td>field</td>\n",
              "      <td>normal</td>\n",
              "      <td>0</td>\n",
              "      <td>Rising Pune Supergiant</td>\n",
              "      <td>0</td>\n",
              "      <td>7</td>\n",
              "      <td>SPD Smith</td>\n",
              "      <td>Maharashtra Cricket Association Stadium</td>\n",
              "      <td>A Nand Kishore</td>\n",
              "      <td>S Ravi</td>\n",
              "      <td>NaN</td>\n",
              "    </tr>\n",
              "    <tr>\n",
              "      <th>2</th>\n",
              "      <td>3</td>\n",
              "      <td>2017</td>\n",
              "      <td>Rajkot</td>\n",
              "      <td>2017-04-07</td>\n",
              "      <td>Gujarat Lions</td>\n",
              "      <td>Kolkata Knight Riders</td>\n",
              "      <td>Kolkata Knight Riders</td>\n",
              "      <td>field</td>\n",
              "      <td>normal</td>\n",
              "      <td>0</td>\n",
              "      <td>Kolkata Knight Riders</td>\n",
              "      <td>0</td>\n",
              "      <td>10</td>\n",
              "      <td>CA Lynn</td>\n",
              "      <td>Saurashtra Cricket Association Stadium</td>\n",
              "      <td>Nitin Menon</td>\n",
              "      <td>CK Nandan</td>\n",
              "      <td>NaN</td>\n",
              "    </tr>\n",
              "    <tr>\n",
              "      <th>3</th>\n",
              "      <td>4</td>\n",
              "      <td>2017</td>\n",
              "      <td>Indore</td>\n",
              "      <td>2017-04-08</td>\n",
              "      <td>Rising Pune Supergiant</td>\n",
              "      <td>Kings XI Punjab</td>\n",
              "      <td>Kings XI Punjab</td>\n",
              "      <td>field</td>\n",
              "      <td>normal</td>\n",
              "      <td>0</td>\n",
              "      <td>Kings XI Punjab</td>\n",
              "      <td>0</td>\n",
              "      <td>6</td>\n",
              "      <td>GJ Maxwell</td>\n",
              "      <td>Holkar Cricket Stadium</td>\n",
              "      <td>AK Chaudhary</td>\n",
              "      <td>C Shamshuddin</td>\n",
              "      <td>NaN</td>\n",
              "    </tr>\n",
              "    <tr>\n",
              "      <th>4</th>\n",
              "      <td>5</td>\n",
              "      <td>2017</td>\n",
              "      <td>Bangalore</td>\n",
              "      <td>2017-04-08</td>\n",
              "      <td>Royal Challengers Bangalore</td>\n",
              "      <td>Delhi Daredevils</td>\n",
              "      <td>Royal Challengers Bangalore</td>\n",
              "      <td>bat</td>\n",
              "      <td>normal</td>\n",
              "      <td>0</td>\n",
              "      <td>Royal Challengers Bangalore</td>\n",
              "      <td>15</td>\n",
              "      <td>0</td>\n",
              "      <td>KM Jadhav</td>\n",
              "      <td>M Chinnaswamy Stadium</td>\n",
              "      <td>NaN</td>\n",
              "      <td>NaN</td>\n",
              "      <td>NaN</td>\n",
              "    </tr>\n",
              "  </tbody>\n",
              "</table>\n",
              "</div>"
            ],
            "text/plain": [
              "   id  season       city  ...         umpire1        umpire2 umpire3\n",
              "0   1    2017  Hyderabad  ...     AY Dandekar       NJ Llong     NaN\n",
              "1   2    2017       Pune  ...  A Nand Kishore         S Ravi     NaN\n",
              "2   3    2017     Rajkot  ...     Nitin Menon      CK Nandan     NaN\n",
              "3   4    2017     Indore  ...    AK Chaudhary  C Shamshuddin     NaN\n",
              "4   5    2017  Bangalore  ...             NaN            NaN     NaN\n",
              "\n",
              "[5 rows x 18 columns]"
            ]
          },
          "metadata": {
            "tags": []
          },
          "execution_count": 4
        }
      ]
    },
    {
      "cell_type": "markdown",
      "metadata": {
        "id": "KSh-JDR-A72N",
        "colab_type": "text"
      },
      "source": [
        "##Task 2: Get top-level summary"
      ]
    },
    {
      "cell_type": "code",
      "metadata": {
        "id": "m65dvhJdALXE",
        "colab_type": "code",
        "colab": {
          "base_uri": "https://localhost:8080/",
          "height": 297
        },
        "outputId": "b1371d18-0a04-4e22-ef35-8b2a7e2c965e"
      },
      "source": [
        "df_matches.describe()"
      ],
      "execution_count": 5,
      "outputs": [
        {
          "output_type": "execute_result",
          "data": {
            "text/html": [
              "<div>\n",
              "<style scoped>\n",
              "    .dataframe tbody tr th:only-of-type {\n",
              "        vertical-align: middle;\n",
              "    }\n",
              "\n",
              "    .dataframe tbody tr th {\n",
              "        vertical-align: top;\n",
              "    }\n",
              "\n",
              "    .dataframe thead th {\n",
              "        text-align: right;\n",
              "    }\n",
              "</style>\n",
              "<table border=\"1\" class=\"dataframe\">\n",
              "  <thead>\n",
              "    <tr style=\"text-align: right;\">\n",
              "      <th></th>\n",
              "      <th>id</th>\n",
              "      <th>season</th>\n",
              "      <th>dl_applied</th>\n",
              "      <th>win_by_runs</th>\n",
              "      <th>win_by_wickets</th>\n",
              "      <th>umpire3</th>\n",
              "    </tr>\n",
              "  </thead>\n",
              "  <tbody>\n",
              "    <tr>\n",
              "      <th>count</th>\n",
              "      <td>636.000000</td>\n",
              "      <td>636.000000</td>\n",
              "      <td>636.000000</td>\n",
              "      <td>636.000000</td>\n",
              "      <td>636.000000</td>\n",
              "      <td>0.0</td>\n",
              "    </tr>\n",
              "    <tr>\n",
              "      <th>mean</th>\n",
              "      <td>318.500000</td>\n",
              "      <td>2012.490566</td>\n",
              "      <td>0.025157</td>\n",
              "      <td>13.682390</td>\n",
              "      <td>3.372642</td>\n",
              "      <td>NaN</td>\n",
              "    </tr>\n",
              "    <tr>\n",
              "      <th>std</th>\n",
              "      <td>183.741666</td>\n",
              "      <td>2.773026</td>\n",
              "      <td>0.156726</td>\n",
              "      <td>23.908877</td>\n",
              "      <td>3.420338</td>\n",
              "      <td>NaN</td>\n",
              "    </tr>\n",
              "    <tr>\n",
              "      <th>min</th>\n",
              "      <td>1.000000</td>\n",
              "      <td>2008.000000</td>\n",
              "      <td>0.000000</td>\n",
              "      <td>0.000000</td>\n",
              "      <td>0.000000</td>\n",
              "      <td>NaN</td>\n",
              "    </tr>\n",
              "    <tr>\n",
              "      <th>25%</th>\n",
              "      <td>159.750000</td>\n",
              "      <td>2010.000000</td>\n",
              "      <td>0.000000</td>\n",
              "      <td>0.000000</td>\n",
              "      <td>0.000000</td>\n",
              "      <td>NaN</td>\n",
              "    </tr>\n",
              "    <tr>\n",
              "      <th>50%</th>\n",
              "      <td>318.500000</td>\n",
              "      <td>2012.000000</td>\n",
              "      <td>0.000000</td>\n",
              "      <td>0.000000</td>\n",
              "      <td>4.000000</td>\n",
              "      <td>NaN</td>\n",
              "    </tr>\n",
              "    <tr>\n",
              "      <th>75%</th>\n",
              "      <td>477.250000</td>\n",
              "      <td>2015.000000</td>\n",
              "      <td>0.000000</td>\n",
              "      <td>20.000000</td>\n",
              "      <td>7.000000</td>\n",
              "      <td>NaN</td>\n",
              "    </tr>\n",
              "    <tr>\n",
              "      <th>max</th>\n",
              "      <td>636.000000</td>\n",
              "      <td>2017.000000</td>\n",
              "      <td>1.000000</td>\n",
              "      <td>146.000000</td>\n",
              "      <td>10.000000</td>\n",
              "      <td>NaN</td>\n",
              "    </tr>\n",
              "  </tbody>\n",
              "</table>\n",
              "</div>"
            ],
            "text/plain": [
              "               id       season  ...  win_by_wickets  umpire3\n",
              "count  636.000000   636.000000  ...      636.000000      0.0\n",
              "mean   318.500000  2012.490566  ...        3.372642      NaN\n",
              "std    183.741666     2.773026  ...        3.420338      NaN\n",
              "min      1.000000  2008.000000  ...        0.000000      NaN\n",
              "25%    159.750000  2010.000000  ...        0.000000      NaN\n",
              "50%    318.500000  2012.000000  ...        4.000000      NaN\n",
              "75%    477.250000  2015.000000  ...        7.000000      NaN\n",
              "max    636.000000  2017.000000  ...       10.000000      NaN\n",
              "\n",
              "[8 rows x 6 columns]"
            ]
          },
          "metadata": {
            "tags": []
          },
          "execution_count": 5
        }
      ]
    },
    {
      "cell_type": "code",
      "metadata": {
        "id": "0v7EtfglALXR",
        "colab_type": "code",
        "colab": {
          "base_uri": "https://localhost:8080/",
          "height": 442
        },
        "outputId": "229a77b5-da86-4f16-b523-dd8a3e8877ca"
      },
      "source": [
        "df_matches.info()"
      ],
      "execution_count": 6,
      "outputs": [
        {
          "output_type": "stream",
          "text": [
            "<class 'pandas.core.frame.DataFrame'>\n",
            "RangeIndex: 636 entries, 0 to 635\n",
            "Data columns (total 18 columns):\n",
            " #   Column           Non-Null Count  Dtype  \n",
            "---  ------           --------------  -----  \n",
            " 0   id               636 non-null    int64  \n",
            " 1   season           636 non-null    int64  \n",
            " 2   city             629 non-null    object \n",
            " 3   date             636 non-null    object \n",
            " 4   team1            636 non-null    object \n",
            " 5   team2            636 non-null    object \n",
            " 6   toss_winner      636 non-null    object \n",
            " 7   toss_decision    636 non-null    object \n",
            " 8   result           636 non-null    object \n",
            " 9   dl_applied       636 non-null    int64  \n",
            " 10  winner           633 non-null    object \n",
            " 11  win_by_runs      636 non-null    int64  \n",
            " 12  win_by_wickets   636 non-null    int64  \n",
            " 13  player_of_match  633 non-null    object \n",
            " 14  venue            636 non-null    object \n",
            " 15  umpire1          635 non-null    object \n",
            " 16  umpire2          635 non-null    object \n",
            " 17  umpire3          0 non-null      float64\n",
            "dtypes: float64(1), int64(5), object(12)\n",
            "memory usage: 89.6+ KB\n"
          ],
          "name": "stdout"
        }
      ]
    },
    {
      "cell_type": "markdown",
      "metadata": {
        "id": "IHOlj7WxAyUC",
        "colab_type": "text"
      },
      "source": [
        "##Task 3: Check if column 'umpire3' is useful. If not drop it and save the dataframe to a file."
      ]
    },
    {
      "cell_type": "code",
      "metadata": {
        "id": "7ubroy8CALXa",
        "colab_type": "code",
        "colab": {
          "base_uri": "https://localhost:8080/",
          "height": 51
        },
        "outputId": "6cee3b6c-3482-4e33-a489-48bc7dabe931"
      },
      "source": [
        "# df = pd.DataFrame({'A': [1, 2, 3], 'B': [1, 1, 1]})\n",
        "# df.nunique()\n",
        "# df['A'].unique()\n",
        "\n",
        "print(df_matches['umpire3'].unique())\n",
        "print(df_matches['umpire3'].nunique(dropna=False))\n",
        "df2 = df_matches.drop(['umpire3'],axis=1)\n",
        "df2.to_csv(\"matches2.csv\",index=False)"
      ],
      "execution_count": 8,
      "outputs": [
        {
          "output_type": "stream",
          "text": [
            "[nan]\n",
            "1\n"
          ],
          "name": "stdout"
        }
      ]
    },
    {
      "cell_type": "markdown",
      "metadata": {
        "id": "2TIU3q39BBAN",
        "colab_type": "text"
      },
      "source": [
        "##Task 4: Print Total Number of Mataches played, Number of Seasons, "
      ]
    },
    {
      "cell_type": "code",
      "metadata": {
        "id": "tuDMksjHALXj",
        "colab_type": "code",
        "colab": {
          "base_uri": "https://localhost:8080/",
          "height": 272
        },
        "outputId": "146a38f8-86be-4160-f562-e3a6156f66a0"
      },
      "source": [
        "print(\"Number of matches played so far : \", df_matches.shape[0])\n",
        "print(\"Number of seasons : \", df_matches['season'].nunique())\n",
        "print(\"Most Player of the Match: \",df_matches['player_of_match'].value_counts()[:10])\n",
        "print((df_matches['player_of_match'].value_counts()).idxmax(),' : has most man of the match awards')\n",
        "print(((df_matches['winner']).value_counts()).idxmax(),': has the highest number of match wins')"
      ],
      "execution_count": 9,
      "outputs": [
        {
          "output_type": "stream",
          "text": [
            "Number of matches played so far :  636\n",
            "Number of seasons :  10\n",
            "Most Player of the Match:  CH Gayle          18\n",
            "YK Pathan         16\n",
            "AB de Villiers    15\n",
            "DA Warner         15\n",
            "SK Raina          14\n",
            "RG Sharma         14\n",
            "G Gambhir         13\n",
            "MS Dhoni          13\n",
            "MEK Hussey        12\n",
            "AM Rahane         12\n",
            "Name: player_of_match, dtype: int64\n",
            "CH Gayle  : has most man of the match awards\n",
            "Mumbai Indians : has the highest number of match wins\n"
          ],
          "name": "stdout"
        }
      ]
    },
    {
      "cell_type": "markdown",
      "metadata": {
        "id": "AlsLwF3mBFPz",
        "colab_type": "text"
      },
      "source": [
        "#Task 5: Players who have won the most \"Player of the Match\" \n",
        "## And Team which has the highest number of match wins"
      ]
    },
    {
      "cell_type": "code",
      "metadata": {
        "id": "jSyHP63TALXq",
        "colab_type": "code",
        "colab": {
          "base_uri": "https://localhost:8080/",
          "height": 238
        },
        "outputId": "cb06e980-59b5-42da-958a-1355d1ede2cf"
      },
      "source": [
        "big_margin=df_matches[(df_matches['win_by_runs']>=100) | (df_matches['win_by_wickets']>=8)]\n",
        "big_margin.winner.value_counts()"
      ],
      "execution_count": 10,
      "outputs": [
        {
          "output_type": "execute_result",
          "data": {
            "text/plain": [
              "Royal Challengers Bangalore    17\n",
              "Kolkata Knight Riders          16\n",
              "Delhi Daredevils               13\n",
              "Rajasthan Royals               12\n",
              "Mumbai Indians                 12\n",
              "Chennai Super Kings             9\n",
              "Kings XI Punjab                 7\n",
              "Sunrisers Hyderabad             5\n",
              "Kochi Tuskers Kerala            2\n",
              "Deccan Chargers                 2\n",
              "Rising Pune Supergiant          1\n",
              "Rising Pune Supergiants         1\n",
              "Name: winner, dtype: int64"
            ]
          },
          "metadata": {
            "tags": []
          },
          "execution_count": 10
        }
      ]
    },
    {
      "cell_type": "markdown",
      "metadata": {
        "id": "zbG8ytiDBJl4",
        "colab_type": "text"
      },
      "source": [
        "#Task 6: Find Min and Max win_by_wickets at each city"
      ]
    },
    {
      "cell_type": "code",
      "metadata": {
        "id": "kDFIa6s4ALXy",
        "colab_type": "code",
        "colab": {},
        "outputId": "0fdef6ea-9c5d-4de7-c6ec-9d11c43951da"
      },
      "source": [
        "df_matches.groupby(['city'])\n",
        "df_matches.groupby(['city','winner']).size()\n",
        "\n",
        "#df_matches.groupby(['city','winner']).count()\n",
        "df_matches.groupby(['city']).get_group('Abu Dhabi')\n",
        "\n",
        "df_matches.groupby(['city']).agg([ 'min', 'max'])['win_by_wickets']\n",
        "# for name, group in grouped:\n",
        "#     print(group)\n",
        "    \n",
        "#df_matches.groupby(['city','winner']).apply(lambda x: x.reset_index(drop = True))"
      ],
      "execution_count": 0,
      "outputs": [
        {
          "output_type": "execute_result",
          "data": {
            "text/html": [
              "<div>\n",
              "<style scoped>\n",
              "    .dataframe tbody tr th:only-of-type {\n",
              "        vertical-align: middle;\n",
              "    }\n",
              "\n",
              "    .dataframe tbody tr th {\n",
              "        vertical-align: top;\n",
              "    }\n",
              "\n",
              "    .dataframe thead th {\n",
              "        text-align: right;\n",
              "    }\n",
              "</style>\n",
              "<table border=\"1\" class=\"dataframe\">\n",
              "  <thead>\n",
              "    <tr style=\"text-align: right;\">\n",
              "      <th></th>\n",
              "      <th>min</th>\n",
              "      <th>max</th>\n",
              "    </tr>\n",
              "    <tr>\n",
              "      <th>city</th>\n",
              "      <th></th>\n",
              "      <th></th>\n",
              "    </tr>\n",
              "  </thead>\n",
              "  <tbody>\n",
              "    <tr>\n",
              "      <th>Abu Dhabi</th>\n",
              "      <td>0</td>\n",
              "      <td>6</td>\n",
              "    </tr>\n",
              "    <tr>\n",
              "      <th>Ahmedabad</th>\n",
              "      <td>0</td>\n",
              "      <td>9</td>\n",
              "    </tr>\n",
              "    <tr>\n",
              "      <th>Bangalore</th>\n",
              "      <td>0</td>\n",
              "      <td>10</td>\n",
              "    </tr>\n",
              "    <tr>\n",
              "      <th>Bloemfontein</th>\n",
              "      <td>0</td>\n",
              "      <td>6</td>\n",
              "    </tr>\n",
              "    <tr>\n",
              "      <th>Cape Town</th>\n",
              "      <td>0</td>\n",
              "      <td>10</td>\n",
              "    </tr>\n",
              "    <tr>\n",
              "      <th>Centurion</th>\n",
              "      <td>0</td>\n",
              "      <td>8</td>\n",
              "    </tr>\n",
              "    <tr>\n",
              "      <th>Chandigarh</th>\n",
              "      <td>0</td>\n",
              "      <td>10</td>\n",
              "    </tr>\n",
              "    <tr>\n",
              "      <th>Chennai</th>\n",
              "      <td>0</td>\n",
              "      <td>9</td>\n",
              "    </tr>\n",
              "    <tr>\n",
              "      <th>Cuttack</th>\n",
              "      <td>0</td>\n",
              "      <td>9</td>\n",
              "    </tr>\n",
              "    <tr>\n",
              "      <th>Delhi</th>\n",
              "      <td>0</td>\n",
              "      <td>10</td>\n",
              "    </tr>\n",
              "    <tr>\n",
              "      <th>Dharamsala</th>\n",
              "      <td>0</td>\n",
              "      <td>6</td>\n",
              "    </tr>\n",
              "    <tr>\n",
              "      <th>Durban</th>\n",
              "      <td>0</td>\n",
              "      <td>9</td>\n",
              "    </tr>\n",
              "    <tr>\n",
              "      <th>East London</th>\n",
              "      <td>0</td>\n",
              "      <td>7</td>\n",
              "    </tr>\n",
              "    <tr>\n",
              "      <th>Hyderabad</th>\n",
              "      <td>0</td>\n",
              "      <td>9</td>\n",
              "    </tr>\n",
              "    <tr>\n",
              "      <th>Indore</th>\n",
              "      <td>6</td>\n",
              "      <td>8</td>\n",
              "    </tr>\n",
              "    <tr>\n",
              "      <th>Jaipur</th>\n",
              "      <td>0</td>\n",
              "      <td>10</td>\n",
              "    </tr>\n",
              "    <tr>\n",
              "      <th>Johannesburg</th>\n",
              "      <td>0</td>\n",
              "      <td>9</td>\n",
              "    </tr>\n",
              "    <tr>\n",
              "      <th>Kanpur</th>\n",
              "      <td>2</td>\n",
              "      <td>8</td>\n",
              "    </tr>\n",
              "    <tr>\n",
              "      <th>Kimberley</th>\n",
              "      <td>0</td>\n",
              "      <td>7</td>\n",
              "    </tr>\n",
              "    <tr>\n",
              "      <th>Kochi</th>\n",
              "      <td>0</td>\n",
              "      <td>7</td>\n",
              "    </tr>\n",
              "    <tr>\n",
              "      <th>Kolkata</th>\n",
              "      <td>0</td>\n",
              "      <td>9</td>\n",
              "    </tr>\n",
              "    <tr>\n",
              "      <th>Mumbai</th>\n",
              "      <td>0</td>\n",
              "      <td>10</td>\n",
              "    </tr>\n",
              "    <tr>\n",
              "      <th>Nagpur</th>\n",
              "      <td>0</td>\n",
              "      <td>6</td>\n",
              "    </tr>\n",
              "    <tr>\n",
              "      <th>Port Elizabeth</th>\n",
              "      <td>0</td>\n",
              "      <td>7</td>\n",
              "    </tr>\n",
              "    <tr>\n",
              "      <th>Pune</th>\n",
              "      <td>0</td>\n",
              "      <td>9</td>\n",
              "    </tr>\n",
              "    <tr>\n",
              "      <th>Raipur</th>\n",
              "      <td>0</td>\n",
              "      <td>7</td>\n",
              "    </tr>\n",
              "    <tr>\n",
              "      <th>Rajkot</th>\n",
              "      <td>0</td>\n",
              "      <td>10</td>\n",
              "    </tr>\n",
              "    <tr>\n",
              "      <th>Ranchi</th>\n",
              "      <td>0</td>\n",
              "      <td>6</td>\n",
              "    </tr>\n",
              "    <tr>\n",
              "      <th>Sharjah</th>\n",
              "      <td>0</td>\n",
              "      <td>8</td>\n",
              "    </tr>\n",
              "    <tr>\n",
              "      <th>Visakhapatnam</th>\n",
              "      <td>0</td>\n",
              "      <td>7</td>\n",
              "    </tr>\n",
              "  </tbody>\n",
              "</table>\n",
              "</div>"
            ],
            "text/plain": [
              "                min  max\n",
              "city                    \n",
              "Abu Dhabi         0    6\n",
              "Ahmedabad         0    9\n",
              "Bangalore         0   10\n",
              "Bloemfontein      0    6\n",
              "Cape Town         0   10\n",
              "Centurion         0    8\n",
              "Chandigarh        0   10\n",
              "Chennai           0    9\n",
              "Cuttack           0    9\n",
              "Delhi             0   10\n",
              "Dharamsala        0    6\n",
              "Durban            0    9\n",
              "East London       0    7\n",
              "Hyderabad         0    9\n",
              "Indore            6    8\n",
              "Jaipur            0   10\n",
              "Johannesburg      0    9\n",
              "Kanpur            2    8\n",
              "Kimberley         0    7\n",
              "Kochi             0    7\n",
              "Kolkata           0    9\n",
              "Mumbai            0   10\n",
              "Nagpur            0    6\n",
              "Port Elizabeth    0    7\n",
              "Pune              0    9\n",
              "Raipur            0    7\n",
              "Rajkot            0   10\n",
              "Ranchi            0    6\n",
              "Sharjah           0    8\n",
              "Visakhapatnam     0    7"
            ]
          },
          "metadata": {
            "tags": []
          },
          "execution_count": 145
        }
      ]
    },
    {
      "cell_type": "markdown",
      "metadata": {
        "id": "wgt1tjHSBNIL",
        "colab_type": "text"
      },
      "source": [
        "#Task 7: Find the match with biggest defeat by runs, "
      ]
    },
    {
      "cell_type": "code",
      "metadata": {
        "id": "7OjX0NdiBodR",
        "colab_type": "code",
        "colab": {
          "base_uri": "https://localhost:8080/",
          "height": 134
        },
        "outputId": "ceb1af37-57b4-4f50-e461-a55282014794"
      },
      "source": [
        "df_matches.iloc[[df_matches['win_by_runs'].idxmax()]]\n",
        "#Mumbai Indians(MI) defeated Delhi Daredevils(DD) with the highest run difference"
      ],
      "execution_count": 11,
      "outputs": [
        {
          "output_type": "execute_result",
          "data": {
            "text/html": [
              "<div>\n",
              "<style scoped>\n",
              "    .dataframe tbody tr th:only-of-type {\n",
              "        vertical-align: middle;\n",
              "    }\n",
              "\n",
              "    .dataframe tbody tr th {\n",
              "        vertical-align: top;\n",
              "    }\n",
              "\n",
              "    .dataframe thead th {\n",
              "        text-align: right;\n",
              "    }\n",
              "</style>\n",
              "<table border=\"1\" class=\"dataframe\">\n",
              "  <thead>\n",
              "    <tr style=\"text-align: right;\">\n",
              "      <th></th>\n",
              "      <th>id</th>\n",
              "      <th>season</th>\n",
              "      <th>city</th>\n",
              "      <th>date</th>\n",
              "      <th>team1</th>\n",
              "      <th>team2</th>\n",
              "      <th>toss_winner</th>\n",
              "      <th>toss_decision</th>\n",
              "      <th>result</th>\n",
              "      <th>dl_applied</th>\n",
              "      <th>winner</th>\n",
              "      <th>win_by_runs</th>\n",
              "      <th>win_by_wickets</th>\n",
              "      <th>player_of_match</th>\n",
              "      <th>venue</th>\n",
              "      <th>umpire1</th>\n",
              "      <th>umpire2</th>\n",
              "      <th>umpire3</th>\n",
              "    </tr>\n",
              "  </thead>\n",
              "  <tbody>\n",
              "    <tr>\n",
              "      <th>43</th>\n",
              "      <td>44</td>\n",
              "      <td>2017</td>\n",
              "      <td>Delhi</td>\n",
              "      <td>2017-05-06</td>\n",
              "      <td>Mumbai Indians</td>\n",
              "      <td>Delhi Daredevils</td>\n",
              "      <td>Delhi Daredevils</td>\n",
              "      <td>field</td>\n",
              "      <td>normal</td>\n",
              "      <td>0</td>\n",
              "      <td>Mumbai Indians</td>\n",
              "      <td>146</td>\n",
              "      <td>0</td>\n",
              "      <td>LMP Simmons</td>\n",
              "      <td>Feroz Shah Kotla</td>\n",
              "      <td>Nitin Menon</td>\n",
              "      <td>CK Nandan</td>\n",
              "      <td>NaN</td>\n",
              "    </tr>\n",
              "  </tbody>\n",
              "</table>\n",
              "</div>"
            ],
            "text/plain": [
              "    id  season   city  ...      umpire1    umpire2 umpire3\n",
              "43  44    2017  Delhi  ...  Nitin Menon  CK Nandan     NaN\n",
              "\n",
              "[1 rows x 18 columns]"
            ]
          },
          "metadata": {
            "tags": []
          },
          "execution_count": 11
        }
      ]
    },
    {
      "cell_type": "markdown",
      "metadata": {
        "id": "hEv32yANCSmt",
        "colab_type": "text"
      },
      "source": [
        "#Task 8: Find the match with biggest defeat by wickets"
      ]
    },
    {
      "cell_type": "code",
      "metadata": {
        "id": "FokSO8VOALX4",
        "colab_type": "code",
        "colab": {},
        "outputId": "d11e2339-5926-4ba2-8512-4b01ba9b3c74"
      },
      "source": [
        "\n",
        "df_matches.iloc[[df_matches['win_by_wickets'].idxmax()]]\n",
        "##Kolkata Knight Riders(KKR) defeated Gujrat Lions(GL) with the highest wins by wickets"
      ],
      "execution_count": 0,
      "outputs": [
        {
          "output_type": "execute_result",
          "data": {
            "text/html": [
              "<div>\n",
              "<style scoped>\n",
              "    .dataframe tbody tr th:only-of-type {\n",
              "        vertical-align: middle;\n",
              "    }\n",
              "\n",
              "    .dataframe tbody tr th {\n",
              "        vertical-align: top;\n",
              "    }\n",
              "\n",
              "    .dataframe thead th {\n",
              "        text-align: right;\n",
              "    }\n",
              "</style>\n",
              "<table border=\"1\" class=\"dataframe\">\n",
              "  <thead>\n",
              "    <tr style=\"text-align: right;\">\n",
              "      <th></th>\n",
              "      <th>id</th>\n",
              "      <th>season</th>\n",
              "      <th>city</th>\n",
              "      <th>date</th>\n",
              "      <th>team1</th>\n",
              "      <th>team2</th>\n",
              "      <th>toss_winner</th>\n",
              "      <th>toss_decision</th>\n",
              "      <th>result</th>\n",
              "      <th>dl_applied</th>\n",
              "      <th>winner</th>\n",
              "      <th>win_by_runs</th>\n",
              "      <th>win_by_wickets</th>\n",
              "      <th>player_of_match</th>\n",
              "      <th>venue</th>\n",
              "      <th>umpire1</th>\n",
              "      <th>umpire2</th>\n",
              "    </tr>\n",
              "  </thead>\n",
              "  <tbody>\n",
              "    <tr>\n",
              "      <th>2</th>\n",
              "      <td>3</td>\n",
              "      <td>2017</td>\n",
              "      <td>Rajkot</td>\n",
              "      <td>2017-04-07</td>\n",
              "      <td>Gujarat Lions</td>\n",
              "      <td>Kolkata Knight Riders</td>\n",
              "      <td>Kolkata Knight Riders</td>\n",
              "      <td>field</td>\n",
              "      <td>normal</td>\n",
              "      <td>0</td>\n",
              "      <td>Kolkata Knight Riders</td>\n",
              "      <td>0</td>\n",
              "      <td>10</td>\n",
              "      <td>CA Lynn</td>\n",
              "      <td>Saurashtra Cricket Association Stadium</td>\n",
              "      <td>Nitin Menon</td>\n",
              "      <td>CK Nandan</td>\n",
              "    </tr>\n",
              "  </tbody>\n",
              "</table>\n",
              "</div>"
            ],
            "text/plain": [
              "   id  season    city        date          team1                  team2  \\\n",
              "2   3    2017  Rajkot  2017-04-07  Gujarat Lions  Kolkata Knight Riders   \n",
              "\n",
              "             toss_winner toss_decision  result  dl_applied  \\\n",
              "2  Kolkata Knight Riders         field  normal           0   \n",
              "\n",
              "                  winner  win_by_runs  win_by_wickets player_of_match  \\\n",
              "2  Kolkata Knight Riders            0              10         CA Lynn   \n",
              "\n",
              "                                    venue      umpire1    umpire2  \n",
              "2  Saurashtra Cricket Association Stadium  Nitin Menon  CK Nandan  "
            ]
          },
          "metadata": {
            "tags": []
          },
          "execution_count": 10
        }
      ]
    }
  ]
}